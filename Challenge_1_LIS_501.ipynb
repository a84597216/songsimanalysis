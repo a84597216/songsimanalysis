{
  "nbformat": 4,
  "nbformat_minor": 0,
  "metadata": {
    "colab": {
      "provenance": [],
      "include_colab_link": true
    },
    "kernelspec": {
      "name": "python3",
      "display_name": "Python 3"
    },
    "language_info": {
      "name": "python"
    }
  },
  "cells": [
    {
      "cell_type": "markdown",
      "metadata": {
        "id": "view-in-github",
        "colab_type": "text"
      },
      "source": [
        "<a href=\"https://colab.research.google.com/github/a84597216/songsimanalysis/blob/main/Challenge_1_LIS_501.ipynb\" target=\"_parent\"><img src=\"https://colab.research.google.com/assets/colab-badge.svg\" alt=\"Open In Colab\"/></a>"
      ]
    },
    {
      "cell_type": "markdown",
      "source": [
        "#Challenge 1"
      ],
      "metadata": {
        "id": "bOi8TloCdlVh"
      }
    },
    {
      "cell_type": "code",
      "execution_count": null,
      "metadata": {
        "id": "Bz-7rYWfY0AZ"
      },
      "outputs": [],
      "source": [
        "import numpy as np\n",
        "import pandas as pd \n",
        "import matplotlib.pyplot as plt \n",
        "import seaborn as sns \n",
        "import sklearn\n",
        "import regex as re\n",
        "import nltk\n",
        "from nltk.tokenize import word_tokenize\n",
        "from nltk.stem import SnowballStemmer\n",
        "from nltk import pos_tag\n",
        "from collections import Counter\n",
        "#Reading dataset\n",
        "from google.colab import files"
      ]
    },
    {
      "cell_type": "code",
      "source": [
        "uploaded = files.upload()"
      ],
      "metadata": {
        "colab": {
          "base_uri": "https://localhost:8080/",
          "height": 73
        },
        "id": "mHgOHXQZa0I6",
        "outputId": "691b0b33-726c-44bf-fa6f-bdbbdaa54d98"
      },
      "execution_count": null,
      "outputs": [
        {
          "output_type": "display_data",
          "data": {
            "text/plain": [
              "<IPython.core.display.HTML object>"
            ],
            "text/html": [
              "\n",
              "     <input type=\"file\" id=\"files-a9e97240-5d9d-4a69-81a0-fed4f6ef588d\" name=\"files[]\" multiple disabled\n",
              "        style=\"border:none\" />\n",
              "     <output id=\"result-a9e97240-5d9d-4a69-81a0-fed4f6ef588d\">\n",
              "      Upload widget is only available when the cell has been executed in the\n",
              "      current browser session. Please rerun this cell to enable.\n",
              "      </output>\n",
              "      <script>// Copyright 2017 Google LLC\n",
              "//\n",
              "// Licensed under the Apache License, Version 2.0 (the \"License\");\n",
              "// you may not use this file except in compliance with the License.\n",
              "// You may obtain a copy of the License at\n",
              "//\n",
              "//      http://www.apache.org/licenses/LICENSE-2.0\n",
              "//\n",
              "// Unless required by applicable law or agreed to in writing, software\n",
              "// distributed under the License is distributed on an \"AS IS\" BASIS,\n",
              "// WITHOUT WARRANTIES OR CONDITIONS OF ANY KIND, either express or implied.\n",
              "// See the License for the specific language governing permissions and\n",
              "// limitations under the License.\n",
              "\n",
              "/**\n",
              " * @fileoverview Helpers for google.colab Python module.\n",
              " */\n",
              "(function(scope) {\n",
              "function span(text, styleAttributes = {}) {\n",
              "  const element = document.createElement('span');\n",
              "  element.textContent = text;\n",
              "  for (const key of Object.keys(styleAttributes)) {\n",
              "    element.style[key] = styleAttributes[key];\n",
              "  }\n",
              "  return element;\n",
              "}\n",
              "\n",
              "// Max number of bytes which will be uploaded at a time.\n",
              "const MAX_PAYLOAD_SIZE = 100 * 1024;\n",
              "\n",
              "function _uploadFiles(inputId, outputId) {\n",
              "  const steps = uploadFilesStep(inputId, outputId);\n",
              "  const outputElement = document.getElementById(outputId);\n",
              "  // Cache steps on the outputElement to make it available for the next call\n",
              "  // to uploadFilesContinue from Python.\n",
              "  outputElement.steps = steps;\n",
              "\n",
              "  return _uploadFilesContinue(outputId);\n",
              "}\n",
              "\n",
              "// This is roughly an async generator (not supported in the browser yet),\n",
              "// where there are multiple asynchronous steps and the Python side is going\n",
              "// to poll for completion of each step.\n",
              "// This uses a Promise to block the python side on completion of each step,\n",
              "// then passes the result of the previous step as the input to the next step.\n",
              "function _uploadFilesContinue(outputId) {\n",
              "  const outputElement = document.getElementById(outputId);\n",
              "  const steps = outputElement.steps;\n",
              "\n",
              "  const next = steps.next(outputElement.lastPromiseValue);\n",
              "  return Promise.resolve(next.value.promise).then((value) => {\n",
              "    // Cache the last promise value to make it available to the next\n",
              "    // step of the generator.\n",
              "    outputElement.lastPromiseValue = value;\n",
              "    return next.value.response;\n",
              "  });\n",
              "}\n",
              "\n",
              "/**\n",
              " * Generator function which is called between each async step of the upload\n",
              " * process.\n",
              " * @param {string} inputId Element ID of the input file picker element.\n",
              " * @param {string} outputId Element ID of the output display.\n",
              " * @return {!Iterable<!Object>} Iterable of next steps.\n",
              " */\n",
              "function* uploadFilesStep(inputId, outputId) {\n",
              "  const inputElement = document.getElementById(inputId);\n",
              "  inputElement.disabled = false;\n",
              "\n",
              "  const outputElement = document.getElementById(outputId);\n",
              "  outputElement.innerHTML = '';\n",
              "\n",
              "  const pickedPromise = new Promise((resolve) => {\n",
              "    inputElement.addEventListener('change', (e) => {\n",
              "      resolve(e.target.files);\n",
              "    });\n",
              "  });\n",
              "\n",
              "  const cancel = document.createElement('button');\n",
              "  inputElement.parentElement.appendChild(cancel);\n",
              "  cancel.textContent = 'Cancel upload';\n",
              "  const cancelPromise = new Promise((resolve) => {\n",
              "    cancel.onclick = () => {\n",
              "      resolve(null);\n",
              "    };\n",
              "  });\n",
              "\n",
              "  // Wait for the user to pick the files.\n",
              "  const files = yield {\n",
              "    promise: Promise.race([pickedPromise, cancelPromise]),\n",
              "    response: {\n",
              "      action: 'starting',\n",
              "    }\n",
              "  };\n",
              "\n",
              "  cancel.remove();\n",
              "\n",
              "  // Disable the input element since further picks are not allowed.\n",
              "  inputElement.disabled = true;\n",
              "\n",
              "  if (!files) {\n",
              "    return {\n",
              "      response: {\n",
              "        action: 'complete',\n",
              "      }\n",
              "    };\n",
              "  }\n",
              "\n",
              "  for (const file of files) {\n",
              "    const li = document.createElement('li');\n",
              "    li.append(span(file.name, {fontWeight: 'bold'}));\n",
              "    li.append(span(\n",
              "        `(${file.type || 'n/a'}) - ${file.size} bytes, ` +\n",
              "        `last modified: ${\n",
              "            file.lastModifiedDate ? file.lastModifiedDate.toLocaleDateString() :\n",
              "                                    'n/a'} - `));\n",
              "    const percent = span('0% done');\n",
              "    li.appendChild(percent);\n",
              "\n",
              "    outputElement.appendChild(li);\n",
              "\n",
              "    const fileDataPromise = new Promise((resolve) => {\n",
              "      const reader = new FileReader();\n",
              "      reader.onload = (e) => {\n",
              "        resolve(e.target.result);\n",
              "      };\n",
              "      reader.readAsArrayBuffer(file);\n",
              "    });\n",
              "    // Wait for the data to be ready.\n",
              "    let fileData = yield {\n",
              "      promise: fileDataPromise,\n",
              "      response: {\n",
              "        action: 'continue',\n",
              "      }\n",
              "    };\n",
              "\n",
              "    // Use a chunked sending to avoid message size limits. See b/62115660.\n",
              "    let position = 0;\n",
              "    do {\n",
              "      const length = Math.min(fileData.byteLength - position, MAX_PAYLOAD_SIZE);\n",
              "      const chunk = new Uint8Array(fileData, position, length);\n",
              "      position += length;\n",
              "\n",
              "      const base64 = btoa(String.fromCharCode.apply(null, chunk));\n",
              "      yield {\n",
              "        response: {\n",
              "          action: 'append',\n",
              "          file: file.name,\n",
              "          data: base64,\n",
              "        },\n",
              "      };\n",
              "\n",
              "      let percentDone = fileData.byteLength === 0 ?\n",
              "          100 :\n",
              "          Math.round((position / fileData.byteLength) * 100);\n",
              "      percent.textContent = `${percentDone}% done`;\n",
              "\n",
              "    } while (position < fileData.byteLength);\n",
              "  }\n",
              "\n",
              "  // All done.\n",
              "  yield {\n",
              "    response: {\n",
              "      action: 'complete',\n",
              "    }\n",
              "  };\n",
              "}\n",
              "\n",
              "scope.google = scope.google || {};\n",
              "scope.google.colab = scope.google.colab || {};\n",
              "scope.google.colab._files = {\n",
              "  _uploadFiles,\n",
              "  _uploadFilesContinue,\n",
              "};\n",
              "})(self);\n",
              "</script> "
            ]
          },
          "metadata": {}
        },
        {
          "output_type": "stream",
          "name": "stdout",
          "text": [
            "Saving h_artists_songs.csv to h_artists_songs (2).csv\n"
          ]
        }
      ]
    },
    {
      "cell_type": "code",
      "source": [
        "#read csv\n",
        "ds_songs = pd.read_csv(\"h_artists_songs.csv\")"
      ],
      "metadata": {
        "id": "JxtAKyVla0FB"
      },
      "execution_count": null,
      "outputs": []
    },
    {
      "cell_type": "code",
      "source": [
        "ds_songs.head()"
      ],
      "metadata": {
        "colab": {
          "base_uri": "https://localhost:8080/",
          "height": 337
        },
        "id": "xjtniZP8a0Ac",
        "outputId": "88373987-345c-47fb-866d-cda61fb52418"
      },
      "execution_count": null,
      "outputs": [
        {
          "output_type": "execute_result",
          "data": {
            "text/plain": [
              "   Artist_Name                    Song_Title  Year  \\\n",
              "0  H1GHR MUSIC                         H1GHR  2020   \n",
              "1  H1GHR MUSIC              Melanin Handsome  2020   \n",
              "2  H1GHR MUSIC                   How We Rock  2020   \n",
              "3  H1GHR MUSIC  DDDD Freestyle (뚝딱Freestyle)  2020   \n",
              "4  H1GHR MUSIC                          4eva  2020   \n",
              "\n",
              "                                          Lyrics_URL  \\\n",
              "0  https://www.azlyrics.com/lyrics/h1ghrmusic/h1g...   \n",
              "1  https://www.azlyrics.com/lyrics/h1ghrmusic/mel...   \n",
              "2  https://www.azlyrics.com/lyrics/h1ghrmusic/how...   \n",
              "3  https://www.azlyrics.com/lyrics/h1ghrmusic/ddd...   \n",
              "4  https://www.azlyrics.com/lyrics/h1ghrmusic/4ev...   \n",
              "\n",
              "                                              Lyrics  \n",
              "0  \\n\\r\\nH1GHR\\nH1GHR\\nH1GHR\\n\\nThe clique gettin...  \n",
              "1  \\n\\n[Romanized:]\\n\\nNone of your business\\nEot...  \n",
              "2  \\n\\n[Romanized:]\\n\\nThis is how we rock yeah\\n...  \n",
              "3  \\n\\n[Romanized:]\\n\\nToo many hustlers' here\\nO...  \n",
              "4  \\n\\n[Romanized:]\\n\\nH1GHR than the sky so fire...  "
            ],
            "text/html": [
              "\n",
              "  <div id=\"df-a548b09e-9cda-42b6-b07f-b110364330e0\">\n",
              "    <div class=\"colab-df-container\">\n",
              "      <div>\n",
              "<style scoped>\n",
              "    .dataframe tbody tr th:only-of-type {\n",
              "        vertical-align: middle;\n",
              "    }\n",
              "\n",
              "    .dataframe tbody tr th {\n",
              "        vertical-align: top;\n",
              "    }\n",
              "\n",
              "    .dataframe thead th {\n",
              "        text-align: right;\n",
              "    }\n",
              "</style>\n",
              "<table border=\"1\" class=\"dataframe\">\n",
              "  <thead>\n",
              "    <tr style=\"text-align: right;\">\n",
              "      <th></th>\n",
              "      <th>Artist_Name</th>\n",
              "      <th>Song_Title</th>\n",
              "      <th>Year</th>\n",
              "      <th>Lyrics_URL</th>\n",
              "      <th>Lyrics</th>\n",
              "    </tr>\n",
              "  </thead>\n",
              "  <tbody>\n",
              "    <tr>\n",
              "      <th>0</th>\n",
              "      <td>H1GHR MUSIC</td>\n",
              "      <td>H1GHR</td>\n",
              "      <td>2020</td>\n",
              "      <td>https://www.azlyrics.com/lyrics/h1ghrmusic/h1g...</td>\n",
              "      <td>\\n\\r\\nH1GHR\\nH1GHR\\nH1GHR\\n\\nThe clique gettin...</td>\n",
              "    </tr>\n",
              "    <tr>\n",
              "      <th>1</th>\n",
              "      <td>H1GHR MUSIC</td>\n",
              "      <td>Melanin Handsome</td>\n",
              "      <td>2020</td>\n",
              "      <td>https://www.azlyrics.com/lyrics/h1ghrmusic/mel...</td>\n",
              "      <td>\\n\\n[Romanized:]\\n\\nNone of your business\\nEot...</td>\n",
              "    </tr>\n",
              "    <tr>\n",
              "      <th>2</th>\n",
              "      <td>H1GHR MUSIC</td>\n",
              "      <td>How We Rock</td>\n",
              "      <td>2020</td>\n",
              "      <td>https://www.azlyrics.com/lyrics/h1ghrmusic/how...</td>\n",
              "      <td>\\n\\n[Romanized:]\\n\\nThis is how we rock yeah\\n...</td>\n",
              "    </tr>\n",
              "    <tr>\n",
              "      <th>3</th>\n",
              "      <td>H1GHR MUSIC</td>\n",
              "      <td>DDDD Freestyle (뚝딱Freestyle)</td>\n",
              "      <td>2020</td>\n",
              "      <td>https://www.azlyrics.com/lyrics/h1ghrmusic/ddd...</td>\n",
              "      <td>\\n\\n[Romanized:]\\n\\nToo many hustlers' here\\nO...</td>\n",
              "    </tr>\n",
              "    <tr>\n",
              "      <th>4</th>\n",
              "      <td>H1GHR MUSIC</td>\n",
              "      <td>4eva</td>\n",
              "      <td>2020</td>\n",
              "      <td>https://www.azlyrics.com/lyrics/h1ghrmusic/4ev...</td>\n",
              "      <td>\\n\\n[Romanized:]\\n\\nH1GHR than the sky so fire...</td>\n",
              "    </tr>\n",
              "  </tbody>\n",
              "</table>\n",
              "</div>\n",
              "      <button class=\"colab-df-convert\" onclick=\"convertToInteractive('df-a548b09e-9cda-42b6-b07f-b110364330e0')\"\n",
              "              title=\"Convert this dataframe to an interactive table.\"\n",
              "              style=\"display:none;\">\n",
              "        \n",
              "  <svg xmlns=\"http://www.w3.org/2000/svg\" height=\"24px\"viewBox=\"0 0 24 24\"\n",
              "       width=\"24px\">\n",
              "    <path d=\"M0 0h24v24H0V0z\" fill=\"none\"/>\n",
              "    <path d=\"M18.56 5.44l.94 2.06.94-2.06 2.06-.94-2.06-.94-.94-2.06-.94 2.06-2.06.94zm-11 1L8.5 8.5l.94-2.06 2.06-.94-2.06-.94L8.5 2.5l-.94 2.06-2.06.94zm10 10l.94 2.06.94-2.06 2.06-.94-2.06-.94-.94-2.06-.94 2.06-2.06.94z\"/><path d=\"M17.41 7.96l-1.37-1.37c-.4-.4-.92-.59-1.43-.59-.52 0-1.04.2-1.43.59L10.3 9.45l-7.72 7.72c-.78.78-.78 2.05 0 2.83L4 21.41c.39.39.9.59 1.41.59.51 0 1.02-.2 1.41-.59l7.78-7.78 2.81-2.81c.8-.78.8-2.07 0-2.86zM5.41 20L4 18.59l7.72-7.72 1.47 1.35L5.41 20z\"/>\n",
              "  </svg>\n",
              "      </button>\n",
              "      \n",
              "  <style>\n",
              "    .colab-df-container {\n",
              "      display:flex;\n",
              "      flex-wrap:wrap;\n",
              "      gap: 12px;\n",
              "    }\n",
              "\n",
              "    .colab-df-convert {\n",
              "      background-color: #E8F0FE;\n",
              "      border: none;\n",
              "      border-radius: 50%;\n",
              "      cursor: pointer;\n",
              "      display: none;\n",
              "      fill: #1967D2;\n",
              "      height: 32px;\n",
              "      padding: 0 0 0 0;\n",
              "      width: 32px;\n",
              "    }\n",
              "\n",
              "    .colab-df-convert:hover {\n",
              "      background-color: #E2EBFA;\n",
              "      box-shadow: 0px 1px 2px rgba(60, 64, 67, 0.3), 0px 1px 3px 1px rgba(60, 64, 67, 0.15);\n",
              "      fill: #174EA6;\n",
              "    }\n",
              "\n",
              "    [theme=dark] .colab-df-convert {\n",
              "      background-color: #3B4455;\n",
              "      fill: #D2E3FC;\n",
              "    }\n",
              "\n",
              "    [theme=dark] .colab-df-convert:hover {\n",
              "      background-color: #434B5C;\n",
              "      box-shadow: 0px 1px 3px 1px rgba(0, 0, 0, 0.15);\n",
              "      filter: drop-shadow(0px 1px 2px rgba(0, 0, 0, 0.3));\n",
              "      fill: #FFFFFF;\n",
              "    }\n",
              "  </style>\n",
              "\n",
              "      <script>\n",
              "        const buttonEl =\n",
              "          document.querySelector('#df-a548b09e-9cda-42b6-b07f-b110364330e0 button.colab-df-convert');\n",
              "        buttonEl.style.display =\n",
              "          google.colab.kernel.accessAllowed ? 'block' : 'none';\n",
              "\n",
              "        async function convertToInteractive(key) {\n",
              "          const element = document.querySelector('#df-a548b09e-9cda-42b6-b07f-b110364330e0');\n",
              "          const dataTable =\n",
              "            await google.colab.kernel.invokeFunction('convertToInteractive',\n",
              "                                                     [key], {});\n",
              "          if (!dataTable) return;\n",
              "\n",
              "          const docLinkHtml = 'Like what you see? Visit the ' +\n",
              "            '<a target=\"_blank\" href=https://colab.research.google.com/notebooks/data_table.ipynb>data table notebook</a>'\n",
              "            + ' to learn more about interactive tables.';\n",
              "          element.innerHTML = '';\n",
              "          dataTable['output_type'] = 'display_data';\n",
              "          await google.colab.output.renderOutput(dataTable, element);\n",
              "          const docLink = document.createElement('div');\n",
              "          docLink.innerHTML = docLinkHtml;\n",
              "          element.appendChild(docLink);\n",
              "        }\n",
              "      </script>\n",
              "    </div>\n",
              "  </div>\n",
              "  "
            ]
          },
          "metadata": {},
          "execution_count": 40
        }
      ]
    },
    {
      "cell_type": "code",
      "source": [
        "ds_songs.shape"
      ],
      "metadata": {
        "id": "wLYrWHqXZXOz",
        "colab": {
          "base_uri": "https://localhost:8080/"
        },
        "outputId": "8bd3c6d2-0927-477f-d110-574fcf5c077a"
      },
      "execution_count": null,
      "outputs": [
        {
          "output_type": "execute_result",
          "data": {
            "text/plain": [
              "(34572, 5)"
            ]
          },
          "metadata": {},
          "execution_count": 41
        }
      ]
    },
    {
      "cell_type": "markdown",
      "source": [
        "##Part 1"
      ],
      "metadata": {
        "id": "3c006ow7dhUx"
      }
    },
    {
      "cell_type": "code",
      "source": [
        "# Define a Snowball stemmer for English\n",
        "stemmer = SnowballStemmer('english')"
      ],
      "metadata": {
        "id": "SoTw4pXOZXTO"
      },
      "execution_count": null,
      "outputs": []
    },
    {
      "cell_type": "code",
      "source": [
        "import nltk\n",
        "nltk.download('punkt')"
      ],
      "metadata": {
        "colab": {
          "base_uri": "https://localhost:8080/"
        },
        "id": "M9MirBm1eGSO",
        "outputId": "d6aafe32-1e04-414f-c2de-241d62d64e56"
      },
      "execution_count": null,
      "outputs": [
        {
          "output_type": "stream",
          "name": "stderr",
          "text": [
            "[nltk_data] Downloading package punkt to /root/nltk_data...\n",
            "[nltk_data]   Package punkt is already up-to-date!\n"
          ]
        },
        {
          "output_type": "execute_result",
          "data": {
            "text/plain": [
              "True"
            ]
          },
          "metadata": {},
          "execution_count": 43
        }
      ]
    },
    {
      "cell_type": "code",
      "source": [
        "# Tokenize the lyrics column into individual words\n",
        "tokens = [word_tokenize(lyrics.lower()) for lyrics in ds_songs['Lyrics']]"
      ],
      "metadata": {
        "id": "e8KW-bjOdgsa"
      },
      "execution_count": null,
      "outputs": []
    },
    {
      "cell_type": "code",
      "source": [
        "# Stem the words using the Snowball stemmer\n",
        "stems = [[stemmer.stem(token) for token in lyrics] for lyrics in tokens]"
      ],
      "metadata": {
        "id": "mF-fTI9Tdgpa"
      },
      "execution_count": null,
      "outputs": []
    },
    {
      "cell_type": "code",
      "source": [
        "import nltk\n",
        "nltk.download('averaged_perceptron_tagger')"
      ],
      "metadata": {
        "colab": {
          "base_uri": "https://localhost:8080/"
        },
        "id": "WVBFHh7NfAkO",
        "outputId": "d828ee61-cd88-4cb1-9921-657664d719cb"
      },
      "execution_count": null,
      "outputs": [
        {
          "output_type": "stream",
          "name": "stderr",
          "text": [
            "[nltk_data] Downloading package averaged_perceptron_tagger to\n",
            "[nltk_data]     /root/nltk_data...\n",
            "[nltk_data]   Package averaged_perceptron_tagger is already up-to-\n",
            "[nltk_data]       date!\n"
          ]
        },
        {
          "output_type": "execute_result",
          "data": {
            "text/plain": [
              "True"
            ]
          },
          "metadata": {},
          "execution_count": 46
        }
      ]
    },
    {
      "cell_type": "code",
      "source": [
        "# Tag the words with their part-of-speech using the NLTK pos_tag function\n",
        "pos_tags = [pos_tag(lyrics) for lyrics in tokens]"
      ],
      "metadata": {
        "id": "IkMlqV8Hdgm5"
      },
      "execution_count": null,
      "outputs": []
    },
    {
      "cell_type": "code",
      "source": [
        "# Extract the verbs from the POS tagged words\n",
        "verbs = [[word for word, tag in tags if tag.startswith('VB')] for tags in pos_tags]"
      ],
      "metadata": {
        "id": "i6iXeraEdgih"
      },
      "execution_count": null,
      "outputs": []
    },
    {
      "cell_type": "code",
      "source": [
        "# Count the frequency of each token, stem, and verb\n",
        "token_freq = Counter([token for lyrics in tokens for token in lyrics])\n",
        "stem_freq = Counter([stem for lyrics in stems for stem in lyrics])\n",
        "verb_freq = Counter([verb for lyrics in verbs for verb in lyrics])"
      ],
      "metadata": {
        "id": "rdUJjIAadgam"
      },
      "execution_count": null,
      "outputs": []
    },
    {
      "cell_type": "code",
      "source": [
        "# Return the top 20 most frequent tokens, stems, and verbs\n",
        "top_20_tokens = token_freq.most_common(20)\n",
        "top_20_stems = stem_freq.most_common(20)\n",
        "top_20_verbs = verb_freq.most_common(20)"
      ],
      "metadata": {
        "id": "IhmhYYQCdgX4"
      },
      "execution_count": null,
      "outputs": []
    },
    {
      "cell_type": "code",
      "source": [
        "#Top 20 most frequent tokens\n",
        "print('Top 20 most frequent tokens:')\n",
        "print( top_20_tokens, '\\n')\n"
      ],
      "metadata": {
        "colab": {
          "base_uri": "https://localhost:8080/"
        },
        "id": "0ZXEpR1VhR_j",
        "outputId": "db6be086-67a7-4dae-bd6e-5a7a2c21bdf6"
      },
      "execution_count": null,
      "outputs": [
        {
          "output_type": "stream",
          "name": "stdout",
          "text": [
            "Top 20 most frequent tokens:\n",
            "[(';', 422959), ('i', 393702), ('you', 304963), ('the', 285754), ('to', 169557), ('and', 166035), ('a', 146663), ('it', 140493), ('me', 134176), (\"n't\", 112868), ('my', 108470), (\"'s\", 107944), ('in', 103018), ('that', 84345), ('do', 80993), ('of', 78709), ('we', 76118), ('on', 74062), ('your', 72858), (\"'m\", 71350)] \n",
            "\n"
          ]
        }
      ]
    },
    {
      "cell_type": "markdown",
      "source": [
        "**---> Kind of not surprised by it as these are the most frequently used tokens in song lyrics as the chorus is usually repeated.**"
      ],
      "metadata": {
        "id": "BM57oDRfjp-R"
      }
    },
    {
      "cell_type": "code",
      "source": [
        "#Top 20 most frequent stems\n",
        "print('\\nTop 20 most frequent stems:')\n",
        "print(top_20_stems)"
      ],
      "metadata": {
        "id": "bCv3W4L3hRv2",
        "colab": {
          "base_uri": "https://localhost:8080/"
        },
        "outputId": "5e3f55ff-cd32-460d-c4bb-ae4e20f18922"
      },
      "execution_count": null,
      "outputs": [
        {
          "metadata": {
            "tags": null
          },
          "name": "stdout",
          "output_type": "stream",
          "text": [
            "\n",
            "Top 20 most frequent stems:\n",
            "[(';', 422959), ('i', 393706), ('you', 305000), ('the', 285765), ('to', 169573), ('and', 166039), ('a', 146663), ('it', 143494), ('me', 134185), (\"n't\", 112868), ('my', 108472), (\"'s\", 107944), ('in', 103182), ('that', 84665), ('do', 83066), ('of', 78712), ('we', 76145), ('your', 74497), ('on', 74122), (\"'m\", 71350)]\n"
          ]
        }
      ]
    },
    {
      "cell_type": "markdown",
      "source": [
        "**---> Kind of not surprised by it as these are stems of the most frequently used tokens in song lyrics as they tend to repeat in the chorus.**"
      ],
      "metadata": {
        "id": "08M1CuVfj-1t"
      }
    },
    {
      "cell_type": "code",
      "source": [
        "#Top 20 most frequent verbs\n",
        "print('\\nTop 20 most frequent verbs:')\n",
        "print(top_20_verbs)"
      ],
      "metadata": {
        "id": "x_05MIJIhRs5",
        "colab": {
          "base_uri": "https://localhost:8080/"
        },
        "outputId": "36cf95fc-8b4d-493a-b3b0-7a464ed5b35b"
      },
      "execution_count": null,
      "outputs": [
        {
          "metadata": {
            "tags": null
          },
          "name": "stdout",
          "output_type": "stream",
          "text": [
            "\n",
            "Top 20 most frequent verbs:\n",
            "[('i', 83284), ('do', 80786), (\"'s\", 80509), (\"'m\", 71350), ('is', 57483), ('be', 55158), ('know', 47919), (\"'re\", 40383), ('got', 37765), ('was', 28093), ('go', 27396), (\"'ve\", 26486), ('are', 26397), ('get', 26257), ('see', 22678), ('let', 21651), ('have', 21545), ('love', 21293), ('want', 20056), ('say', 19265)]\n"
          ]
        }
      ]
    },
    {
      "cell_type": "markdown",
      "source": [
        "**---> No, we are not surprised by the result as these are some of the most commonly used verbs in spoken/lyrical languages.**"
      ],
      "metadata": {
        "id": "2rIxyPItkYyO"
      }
    },
    {
      "cell_type": "markdown",
      "source": [
        "**========================**"
      ],
      "metadata": {
        "id": "CfwV0_-Zl0M2"
      }
    },
    {
      "cell_type": "markdown",
      "source": [
        "##Part 2"
      ],
      "metadata": {
        "id": "r-ymhiM8l70X"
      }
    },
    {
      "cell_type": "code",
      "source": [
        "# Choose the year 2020 to analyze\n",
        "year = 2020\n",
        "\n",
        "# Filter the DataFrame to include only songs from the year 2020\n",
        "df_year = ds_songs[ds_songs['Year'] == year]"
      ],
      "metadata": {
        "id": "HGapA2x2ZXbT"
      },
      "execution_count": null,
      "outputs": []
    },
    {
      "cell_type": "code",
      "source": [
        "tokens = [word_tokenize(lyrics.lower()) for lyrics in df_year['Lyrics']]"
      ],
      "metadata": {
        "id": "oifKulkSZXeH"
      },
      "execution_count": null,
      "outputs": []
    },
    {
      "cell_type": "code",
      "source": [
        "stems = [[stemmer.stem(token) for token in lyrics] for lyrics in tokens]"
      ],
      "metadata": {
        "id": "Dj3nXmzAZXga"
      },
      "execution_count": null,
      "outputs": []
    },
    {
      "cell_type": "code",
      "source": [
        "pos_tags = [pos_tag(lyrics) for lyrics in tokens]"
      ],
      "metadata": {
        "id": "BqASIGP2ZXiE"
      },
      "execution_count": null,
      "outputs": []
    },
    {
      "cell_type": "code",
      "source": [
        "verbs = [[word for word, tag in tags if tag.startswith('VB')] for tags in pos_tags]"
      ],
      "metadata": {
        "id": "rkO2NLMUZXkp"
      },
      "execution_count": null,
      "outputs": []
    },
    {
      "cell_type": "code",
      "source": [
        "token_freq = Counter([token for lyrics in tokens for token in lyrics])\n",
        "stem_freq = Counter([stem for lyrics in stems for stem in lyrics])\n",
        "verb_freq = Counter([verb for lyrics in verbs for verb in lyrics])"
      ],
      "metadata": {
        "id": "OzS9fMctZXmb"
      },
      "execution_count": null,
      "outputs": []
    },
    {
      "cell_type": "code",
      "source": [
        "top_20_tokens = token_freq.most_common(20)\n",
        "top_20_stems = stem_freq.most_common(20)\n",
        "top_20_verbs = verb_freq.most_common(20)"
      ],
      "metadata": {
        "id": "AVnM1-yoZXo2"
      },
      "execution_count": null,
      "outputs": []
    },
    {
      "cell_type": "code",
      "source": [
        "print(f'Top 20 most frequent tokens for year {year}:')\n",
        "print(top_20_tokens)"
      ],
      "metadata": {
        "id": "XfldXxrsZXqZ"
      },
      "execution_count": null,
      "outputs": []
    },
    {
      "cell_type": "markdown",
      "source": [
        "**---> On comparing this result with part 1 results we see that only the first 4 tokens have the same order (in terms of frequency) but the words after that are the words same but have different orders.**"
      ],
      "metadata": {
        "id": "0WhzUxwVnpEG"
      }
    },
    {
      "cell_type": "code",
      "source": [
        "print(f'\\nTop 20 most frequent stems for year {year}:')\n",
        "print(top_20_stems)"
      ],
      "metadata": {
        "id": "4nAIgHEjZXsi"
      },
      "execution_count": null,
      "outputs": []
    },
    {
      "cell_type": "markdown",
      "source": [
        "**---> On comparing this with part 1 results we see that only the first 4 tokens have the same order (in terms of frequency) but the words after that are the words same but have different orders.**\n",
        "\n",
        "**we also notice new stems (' and ') as the lyrics over time have become harder to understand hence the lyrics are being placed in parentheses to explain them more clearly or to notify if its the background music eg ('la la la la')**"
      ],
      "metadata": {
        "id": "LKM-uY0Xoxma"
      }
    },
    {
      "cell_type": "code",
      "source": [
        "print(f'\\nTop 20 most frequent verbs for year {year}:')\n",
        "print(top_20_verbs)"
      ],
      "metadata": {
        "id": "GvsZqGmHZXw3"
      },
      "execution_count": null,
      "outputs": []
    },
    {
      "cell_type": "markdown",
      "source": [
        "**---> On comparing this with part 1 results we see that there is a significant difference in the verbs used in the song lyrics**\n",
        "\n",
        "**we can see here that verbs or filler words like \"ai\" compared to the part 1 verbs**\n"
      ],
      "metadata": {
        "id": "tkwnNfQ-q5eZ"
      }
    },
    {
      "cell_type": "markdown",
      "source": [
        "==================="
      ],
      "metadata": {
        "id": "Z9udaiL0ryml"
      }
    },
    {
      "cell_type": "markdown",
      "source": [
        "##Part 3"
      ],
      "metadata": {
        "id": "i5aoxO77r1eh"
      }
    },
    {
      "cell_type": "markdown",
      "source": [],
      "metadata": {
        "id": "ftdJoKvMyNTj"
      }
    },
    {
      "cell_type": "code",
      "source": [
        "from sklearn.feature_extraction.text import TfidfVectorizer\n",
        "from sklearn.metrics.pairwise import cosine_similarity"
      ],
      "metadata": {
        "id": "oL-KA22TW7yf"
      },
      "execution_count": null,
      "outputs": []
    },
    {
      "cell_type": "code",
      "source": [
        "# Choose artists HyunA and Hoobastank to analyze\n",
        "artist1 = 'HyunA'\n",
        "artist2 = 'Hoobastank'"
      ],
      "metadata": {
        "id": "OzyaMRPUZX3M"
      },
      "execution_count": null,
      "outputs": []
    },
    {
      "cell_type": "code",
      "source": [
        "# Filter the DataFrame to include only songs by the two chosen artists\n",
        "df_artist = ds_songs[(ds_songs['Artist_Name'] == artist1) | (ds_songs['Artist_Name'] == artist2)]"
      ],
      "metadata": {
        "id": "AjIbOzR7ZX5B"
      },
      "execution_count": null,
      "outputs": []
    },
    {
      "cell_type": "code",
      "source": [
        "# Define the set of English stop words\n",
        "stop_words = set(nltk.corpus.stopwords.words('english'))"
      ],
      "metadata": {
        "id": "2WFD_RTNZX6s"
      },
      "execution_count": null,
      "outputs": []
    },
    {
      "cell_type": "code",
      "source": [
        "# Define a function to preprocess a given text by tokenizing, removing stop words and punctuation, and converting to lowercase\n",
        "def preprocess(text):\n",
        "    tokens = word_tokenize(text.lower())\n",
        "    tokens = [token for token in tokens if token not in stop_words and token not in punctuation]\n",
        "    return ' '.join(tokens)"
      ],
      "metadata": {
        "id": "R36WbLuyuLHS"
      },
      "execution_count": null,
      "outputs": []
    },
    {
      "cell_type": "code",
      "source": [
        "# Preprocess the lyrics column of the DataFrame\n",
        "df_artist['Lyrics'] = df_artist['Lyrics'].apply(preprocess)"
      ],
      "metadata": {
        "colab": {
          "base_uri": "https://localhost:8080/"
        },
        "id": "bjx_Ogoz-D9T",
        "outputId": "93db5e22-4704-4148-e87e-99a695f868aa"
      },
      "execution_count": null,
      "outputs": [
        {
          "output_type": "stream",
          "name": "stderr",
          "text": [
            "<ipython-input-84-1d6259d9b7ea>:2: SettingWithCopyWarning: \n",
            "A value is trying to be set on a copy of a slice from a DataFrame.\n",
            "Try using .loc[row_indexer,col_indexer] = value instead\n",
            "\n",
            "See the caveats in the documentation: https://pandas.pydata.org/pandas-docs/stable/user_guide/indexing.html#returning-a-view-versus-a-copy\n",
            "  df_artist['Lyrics'] = df_artist['Lyrics'].apply(preprocess)\n"
          ]
        }
      ]
    },
    {
      "cell_type": "code",
      "source": [
        "# Extract the lyrics of a song by artist1\n",
        "song_lyrics = df_artist[df_artist['Artist_Name'] == artist1]['Lyrics'].iloc[0]"
      ],
      "metadata": {
        "id": "LMO4Obcu-D6d"
      },
      "execution_count": null,
      "outputs": []
    },
    {
      "cell_type": "code",
      "source": [
        "# Create a TF-IDF vectorizer with lowercase word stems and using raw term frequency\n",
        "vectorizer = TfidfVectorizer(lowercase=True, tokenizer=word_tokenize, stop_words='english', use_idf=False, norm=None, smooth_idf=False, sublinear_tf=False, analyzer='word', min_df=2, max_df=0.5)\n"
      ],
      "metadata": {
        "id": "7Y2E1cvU-D3-"
      },
      "execution_count": null,
      "outputs": []
    },
    {
      "cell_type": "code",
      "source": [
        "# Fit the vectorizer to the preprocessed lyrics of the two artists\n",
        "vectorizer.fit(df_artist['Lyrics'])"
      ],
      "metadata": {
        "colab": {
          "base_uri": "https://localhost:8080/"
        },
        "id": "8YNu2lzP-D07",
        "outputId": "f499a4b6-6543-4c62-9dfb-8e789f6f765e"
      },
      "execution_count": null,
      "outputs": [
        {
          "output_type": "stream",
          "name": "stderr",
          "text": [
            "/usr/local/lib/python3.8/dist-packages/sklearn/feature_extraction/text.py:516: UserWarning: The parameter 'token_pattern' will not be used since 'tokenizer' is not None'\n",
            "  warnings.warn(\n"
          ]
        },
        {
          "output_type": "execute_result",
          "data": {
            "text/plain": [
              "TfidfVectorizer(max_df=0.5, min_df=2, norm=None, smooth_idf=False,\n",
              "                stop_words='english',\n",
              "                tokenizer=<function word_tokenize at 0x7fa4f3954550>,\n",
              "                use_idf=False)"
            ]
          },
          "metadata": {},
          "execution_count": 89
        }
      ]
    },
    {
      "cell_type": "code",
      "source": [
        "# Convert the preprocessed lyrics of the song into a TF-IDF vector\n",
        "song_vector = vectorizer.transform([song_lyrics])"
      ],
      "metadata": {
        "id": "ltsvUJa6-DyT"
      },
      "execution_count": null,
      "outputs": []
    },
    {
      "cell_type": "code",
      "source": [
        "# Compute the cosine similarities of the song against each other song using TF-IDF weighting\n",
        "\n",
        "cos_similarities = cosine_similarity(song_vector, vectorizer.transform(df_artist[df_artist['Artist_Name'] != artist1]['Lyrics']))[0]\n",
        "cos_similarities = list(cos_similarities)"
      ],
      "metadata": {
        "id": "GpD0UCKN-pT1"
      },
      "execution_count": null,
      "outputs": []
    },
    {
      "cell_type": "code",
      "source": [
        "# Create a new DataFrame to store the song titles and cosine similarities\n",
        "cos_similarities_df = pd.DataFrame({'Song_Title': df_artist[df_artist['Artist_Name'] != artist1]['Song_Title'], 'Cosine_Similarity': cos_similarities})\n"
      ],
      "metadata": {
        "id": "Ks7rSfHL-pRD"
      },
      "execution_count": null,
      "outputs": []
    },
    {
      "cell_type": "code",
      "source": [
        "# Print the resulting DataFrame sorted by decreasing cosine similarity\n",
        "print(cos_similarities_df.sort_values(by='Cosine_Similarity', ascending=False))\n"
      ],
      "metadata": {
        "colab": {
          "base_uri": "https://localhost:8080/"
        },
        "id": "psicN7RA-pOX",
        "outputId": "9224429c-49c2-48b2-a175-b227b5f58da8"
      },
      "execution_count": null,
      "outputs": [
        {
          "output_type": "stream",
          "name": "stdout",
          "text": [
            "                              Song_Title  Cosine_Similarity\n",
            "26607                          Push Pull           0.271760\n",
            "26594                 This Is Gonna Hurt           0.251431\n",
            "26557                           Just One           0.204500\n",
            "26616    There Will Never Be Another One           0.160347\n",
            "26614  Buzzkill (Before You Say Goodbye)           0.130753\n",
            "...                                  ...                ...\n",
            "26562                         Unaffected           0.000000\n",
            "26560                         The Reason           0.000000\n",
            "26559                     From The Heart           0.000000\n",
            "26558                              Lucky           0.000000\n",
            "26571                      If I Were You           0.000000\n",
            "\n",
            "[91 rows x 2 columns]\n"
          ]
        }
      ]
    },
    {
      "cell_type": "code",
      "source": [],
      "metadata": {
        "id": "E_AVi-NgvLtv"
      },
      "execution_count": null,
      "outputs": []
    },
    {
      "cell_type": "markdown",
      "source": [
        "This part looks at the lyrics of two artists (HyunaA and Hoobastank) and uses TF-IDF weighting to determine the cosine similarity between one of their songs and every other song in the dataset in decreseing order.\n",
        "\n",
        "The song by HyunA is most similar to other songs by her, similarly the song by Hoobastank is most similar to other songs by them. This is understandable as the musician has a distinct way to presnt their songs.\n",
        "\n",
        "\n",
        "\n",
        "This study is helpful in giving insights into an artist's musical and lyrical style and may be applied for a number of things, including finding potential collaborators, comprehending how an artist's style has changed over time, and giving fan recommendations depending on their tastes. It is crucial to keep in mind that the analysis only considers the textual content of the lyrics and ignores other elements like melody, rhythm, and production, which are crucial in establishing how similar two songs are to one another."
      ],
      "metadata": {
        "id": "P5kKB3hp3d0q"
      }
    },
    {
      "cell_type": "markdown",
      "source": [],
      "metadata": {
        "id": "69jWkDyI3hbi"
      }
    }
  ]
}